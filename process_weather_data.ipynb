{
 "cells": [
  {
   "cell_type": "code",
   "execution_count": 1,
   "metadata": {},
   "outputs": [],
   "source": [
    "import pandas as pd\n",
    "import numpy as np\n",
    "import concurrent.futures\n",
    "from functools import partial\n",
    "import time"
   ]
  },
  {
   "cell_type": "code",
   "execution_count": 2,
   "metadata": {},
   "outputs": [],
   "source": [
    "relevant_cols = [\n",
    "                    'postal_code',\n",
    "                    'date', \n",
    "                    'avg_temperature_air_2m_f', \n",
    "                    'avg_humidity_relative_2m_pct'\n",
    "                ]\n",
    "\n",
    "df = pd.read_csv(\n",
    "    filepath_or_buffer='w_data.csv',\n",
    "    parse_dates=True,\n",
    "    infer_datetime_format=True,\n",
    "    index_col=['postal_code', 'date'], \n",
    "    usecols=relevant_cols,\n",
    "    dtype={\n",
    "        'avg_temperature_air_2m_f':np.float64, \n",
    "        'avg_humidity_relative_2m_pct':np.int32}\n",
    ")"
   ]
  },
  {
   "cell_type": "code",
   "execution_count": 3,
   "metadata": {},
   "outputs": [],
   "source": [
    "df = df.sort_index(ascending=True, inplace=False)"
   ]
  },
  {
   "cell_type": "code",
   "execution_count": 4,
   "metadata": {
    "scrolled": true
   },
   "outputs": [
    {
     "data": {
      "text/html": [
       "<div>\n",
       "<style scoped>\n",
       "    .dataframe tbody tr th:only-of-type {\n",
       "        vertical-align: middle;\n",
       "    }\n",
       "\n",
       "    .dataframe tbody tr th {\n",
       "        vertical-align: top;\n",
       "    }\n",
       "\n",
       "    .dataframe thead th {\n",
       "        text-align: right;\n",
       "    }\n",
       "</style>\n",
       "<table border=\"1\" class=\"dataframe\">\n",
       "  <thead>\n",
       "    <tr style=\"text-align: right;\">\n",
       "      <th></th>\n",
       "      <th></th>\n",
       "      <th>avg_temperature_air_2m_f</th>\n",
       "      <th>avg_humidity_relative_2m_pct</th>\n",
       "    </tr>\n",
       "    <tr>\n",
       "      <th>postal_code</th>\n",
       "      <th>date</th>\n",
       "      <th></th>\n",
       "      <th></th>\n",
       "    </tr>\n",
       "  </thead>\n",
       "  <tbody>\n",
       "    <tr>\n",
       "      <th rowspan=\"5\" valign=\"top\">1029200</th>\n",
       "      <th>2020-02-01</th>\n",
       "      <td>44.6</td>\n",
       "      <td>92</td>\n",
       "    </tr>\n",
       "    <tr>\n",
       "      <th>2020-02-02</th>\n",
       "      <td>45.6</td>\n",
       "      <td>93</td>\n",
       "    </tr>\n",
       "    <tr>\n",
       "      <th>2020-02-03</th>\n",
       "      <td>48.1</td>\n",
       "      <td>84</td>\n",
       "    </tr>\n",
       "    <tr>\n",
       "      <th>2020-02-04</th>\n",
       "      <td>48.7</td>\n",
       "      <td>90</td>\n",
       "    </tr>\n",
       "    <tr>\n",
       "      <th>2020-02-05</th>\n",
       "      <td>51.3</td>\n",
       "      <td>86</td>\n",
       "    </tr>\n",
       "  </tbody>\n",
       "</table>\n",
       "</div>"
      ],
      "text/plain": [
       "                        avg_temperature_air_2m_f  avg_humidity_relative_2m_pct\n",
       "postal_code date                                                              \n",
       "1029200     2020-02-01                      44.6                            92\n",
       "            2020-02-02                      45.6                            93\n",
       "            2020-02-03                      48.1                            84\n",
       "            2020-02-04                      48.7                            90\n",
       "            2020-02-05                      51.3                            86"
      ]
     },
     "execution_count": 4,
     "metadata": {},
     "output_type": "execute_result"
    }
   ],
   "source": [
    "df.head()"
   ]
  },
  {
   "cell_type": "code",
   "execution_count": 5,
   "metadata": {},
   "outputs": [],
   "source": [
    "rdf = df.groupby(['postal_code'])[['avg_temperature_air_2m_f', 'avg_humidity_relative_2m_pct']].diff(1)"
   ]
  },
  {
   "cell_type": "code",
   "execution_count": 6,
   "metadata": {},
   "outputs": [],
   "source": [
    "rdf.columns = ['delta_tempreture_previous_day', 'delta_humidity_previous_day']"
   ]
  },
  {
   "cell_type": "code",
   "execution_count": 7,
   "metadata": {
    "scrolled": true
   },
   "outputs": [
    {
     "data": {
      "text/html": [
       "<div>\n",
       "<style scoped>\n",
       "    .dataframe tbody tr th:only-of-type {\n",
       "        vertical-align: middle;\n",
       "    }\n",
       "\n",
       "    .dataframe tbody tr th {\n",
       "        vertical-align: top;\n",
       "    }\n",
       "\n",
       "    .dataframe thead th {\n",
       "        text-align: right;\n",
       "    }\n",
       "</style>\n",
       "<table border=\"1\" class=\"dataframe\">\n",
       "  <thead>\n",
       "    <tr style=\"text-align: right;\">\n",
       "      <th></th>\n",
       "      <th></th>\n",
       "      <th>delta_tempreture_previous_day</th>\n",
       "      <th>delta_humidity_previous_day</th>\n",
       "    </tr>\n",
       "    <tr>\n",
       "      <th>postal_code</th>\n",
       "      <th>date</th>\n",
       "      <th></th>\n",
       "      <th></th>\n",
       "    </tr>\n",
       "  </thead>\n",
       "  <tbody>\n",
       "    <tr>\n",
       "      <th rowspan=\"5\" valign=\"top\">1029200</th>\n",
       "      <th>2020-02-01</th>\n",
       "      <td>NaN</td>\n",
       "      <td>NaN</td>\n",
       "    </tr>\n",
       "    <tr>\n",
       "      <th>2020-02-02</th>\n",
       "      <td>1.0</td>\n",
       "      <td>1.0</td>\n",
       "    </tr>\n",
       "    <tr>\n",
       "      <th>2020-02-03</th>\n",
       "      <td>2.5</td>\n",
       "      <td>-9.0</td>\n",
       "    </tr>\n",
       "    <tr>\n",
       "      <th>2020-02-04</th>\n",
       "      <td>0.6</td>\n",
       "      <td>6.0</td>\n",
       "    </tr>\n",
       "    <tr>\n",
       "      <th>2020-02-05</th>\n",
       "      <td>2.6</td>\n",
       "      <td>-4.0</td>\n",
       "    </tr>\n",
       "  </tbody>\n",
       "</table>\n",
       "</div>"
      ],
      "text/plain": [
       "                        delta_tempreture_previous_day  \\\n",
       "postal_code date                                        \n",
       "1029200     2020-02-01                            NaN   \n",
       "            2020-02-02                            1.0   \n",
       "            2020-02-03                            2.5   \n",
       "            2020-02-04                            0.6   \n",
       "            2020-02-05                            2.6   \n",
       "\n",
       "                        delta_humidity_previous_day  \n",
       "postal_code date                                     \n",
       "1029200     2020-02-01                          NaN  \n",
       "            2020-02-02                          1.0  \n",
       "            2020-02-03                         -9.0  \n",
       "            2020-02-04                          6.0  \n",
       "            2020-02-05                         -4.0  "
      ]
     },
     "execution_count": 7,
     "metadata": {},
     "output_type": "execute_result"
    }
   ],
   "source": [
    "rdf.head()"
   ]
  },
  {
   "cell_type": "code",
   "execution_count": 8,
   "metadata": {},
   "outputs": [
    {
     "name": "stdout",
     "output_type": "stream",
     "text": [
      "32\n"
     ]
    }
   ],
   "source": [
    "def create_potal_code_chunks(result_df: pd.DataFrame, chunk_size):\n",
    "    postal_code_dict = dict()\n",
    "    postal_codes = list(result_df.index.unique(level='postal_code'))\n",
    "    postal_codes = list(map(str, postal_codes))\n",
    "    chunks = [postal_codes[x:x+chunk_size] for x in range(0, len(postal_codes), chunk_size)]\n",
    "    for chunk in chunks:\n",
    "        lookupkey = f'{chunk[0]}-{chunk[-1]}'\n",
    "        postal_code_dict[lookupkey] = chunk\n",
    "    print(len(postal_code_dict.keys()))\n",
    "    return postal_code_dict\n",
    "\n",
    "postal_code_keys = create_potal_code_chunks(rdf, 100)"
   ]
  },
  {
   "cell_type": "code",
   "execution_count": 9,
   "metadata": {},
   "outputs": [],
   "source": [
    "processed_chunk = dict()"
   ]
  },
  {
   "cell_type": "code",
   "execution_count": null,
   "metadata": {},
   "outputs": [],
   "source": [
    "for postal_code_key in postal_code_keys.keys():\n",
    "    print(postal_code_key)\n",
    "    if not processed_chunk.get(postal_code_key):\n",
    "        list_postal_codes = postal_code_keys.get(postal_code_key)\n",
    "        print(list_postal_codes)\n",
    "        sdf = rdf.loc[df.index.isin(list_postal_codes, level=0)]\n",
    "        \n",
    "        def p_generate_files(postal_code: str, result_df: pd.DataFrame=sdf) -> None:\n",
    "            tmp_df = result_df.filter(like=str(postal_code), axis=0)\n",
    "            start_date = tmp_df.index.unique(level='date').min().to_pydatetime().strftime('%b').upper()\n",
    "            end_date = tmp_df.index.unique(level='date').max().to_pydatetime().strftime('%b').upper()\n",
    "            file_name_path = f'data/COVID-WEATHER-{postal_code}-{start_date}-{end_date}-2020.json'\n",
    "            tmp_df.reset_index(inplace=True)\n",
    "\n",
    "            tmp_df.to_json(\n",
    "                    file_name_path,\n",
    "                    orient=\"records\",\n",
    "                    index=True,\n",
    "                    lines=True, \n",
    "                    date_format='iso')\n",
    "\n",
    "        with concurrent.futures.ProcessPoolExecutor() as executor:\n",
    "            executor.map(p_generate_files, list_postal_codes)\n",
    "        \n",
    "        time.sleep(15)\n",
    "        processed_chunk[postal_code_key]=f\"Successful Processed {postal_code_key}\"\n",
    "    else:\n",
    "        print(processed_chunk[postal_code_key])"
   ]
  }
 ],
 "metadata": {
  "kernelspec": {
   "display_name": "Python 3",
   "language": "python",
   "name": "python3"
  },
  "language_info": {
   "codemirror_mode": {
    "name": "ipython",
    "version": 3
   },
   "file_extension": ".py",
   "mimetype": "text/x-python",
   "name": "python",
   "nbconvert_exporter": "python",
   "pygments_lexer": "ipython3",
   "version": "3.7.3"
  }
 },
 "nbformat": 4,
 "nbformat_minor": 2
}
